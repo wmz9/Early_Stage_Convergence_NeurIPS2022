{
 "cells": [
  {
   "cell_type": "code",
   "execution_count": 205,
   "metadata": {},
   "outputs": [],
   "source": [
    "from pathlib import Path\n",
    "from tqdm import tqdm\n",
    "import os\n",
    "import json\n",
    "import numpy as np\n",
    "import math\n",
    "import matplotlib.pyplot as plt\n",
    "import torch\n",
    "import torch.optim as optim\n",
    "import torch.nn as nn\n",
    "import torch.nn.functional as F\n",
    "import torchvision\n",
    "import torchvision.transforms as transforms"
   ]
  },
  {
   "cell_type": "code",
   "execution_count": 206,
   "metadata": {},
   "outputs": [],
   "source": [
    "os.environ['CUDA_VISIBLE_DEVICES'] = '0'\n",
    "\n",
    "device = torch.device(\"cuda\" if torch.cuda.is_available() else \"cpu\")\n",
    "\n",
    "transform_train = transforms.Compose([\n",
    "    transforms.ToTensor(),\n",
    "])\n",
    "# train_set = torchvision.datasets.CIFAR10(root='./data', train=True, download=True, transform=transform_train)\n",
    "train_set = torchvision.datasets.MNIST(root='./data', train=True, download=True, transform=transform_train)\n",
    "train_set.data = train_set.data[0: 1000]\n",
    "train_set.targets = train_set.targets[0: 1000]"
   ]
  },
  {
   "cell_type": "code",
   "execution_count": 207,
   "metadata": {},
   "outputs": [],
   "source": [
    "BATCH_SIZE = 1000\n",
    "trainloader = torch.utils.data.DataLoader(train_set, batch_size=BATCH_SIZE, shuffle=True)\n",
    "\n",
    "num_classes = 10"
   ]
  },
  {
   "cell_type": "code",
   "execution_count": 208,
   "metadata": {},
   "outputs": [],
   "source": [
    "d = 784\n",
    "# d = 32 * 32 * 3\n",
    "width = 200\n",
    "kappa = 0.000001\n",
    "lr = 0.01\n",
    "EPOCH = 35"
   ]
  },
  {
   "cell_type": "code",
   "execution_count": 209,
   "metadata": {},
   "outputs": [],
   "source": [
    "def ber_(m, n, k=2., b=-1.):\n",
    "    x = (k * np.random.randint(0, 2, size=(m*n)) + b).reshape(m, n)\n",
    "    y = torch.from_numpy(x).float()\n",
    "    return torch.nn.Parameter(y)\n",
    "\n",
    "def logistic_loss(by_pre, by):\n",
    "    v = torch.sum(torch.mul(by_pre, by), dim=1)\n",
    "    loss_vec = torch.log(1 + torch.exp(- v))\n",
    "    loss = loss_vec.mean()\n",
    "    return loss\n",
    "\n",
    "class FNN(nn.Module):\n",
    "    def __init__(self, d, width, kappa):\n",
    "        super(FNN, self).__init__()\n",
    "        self.fc1 = nn.Linear(d, width, bias=True)\n",
    "        nn.init.normal_(self.fc1.weight, mean=0, std=kappa)\n",
    "        nn.init.constant_(self.fc1.bias, kappa)\n",
    "        self.fc2 = nn.Linear(width, num_classes, bias=False)\n",
    "        self.fc2.weight = ber_(self.fc2.weight.shape[0], self.fc2.weight.shape[1], 2., -1)\n",
    "\n",
    "    def forward(self, x):\n",
    "#         x = x.view(-1, 784)\n",
    "        o = self.fc1(x)\n",
    "        o = torch.relu(o)\n",
    "        o = self.fc2(o)\n",
    "        return o.squeeze()"
   ]
  },
  {
   "cell_type": "code",
   "execution_count": 210,
   "metadata": {},
   "outputs": [],
   "source": [
    "\n",
    "net_SGD = FNN(d, width, kappa)\n",
    "opt_SGD = optim.SGD(net_SGD.parameters(), lr=lr)\n",
    "\n",
    "train_loss = []\n",
    "criterion = nn.CrossEntropyLoss()\n",
    "\n",
    "def train_epoch(net, optimizer):\n",
    "    net.train()\n",
    "    sum_loss = 0.0\n",
    "    batch = 0\n",
    "    for inputs, labels in trainloader:\n",
    "        inputs = inputs.to(device)\n",
    "        inputs = inputs.view(-1, 784)\n",
    "#         inputs = inputs.view(-1, 3072)\n",
    "        inputs = F.normalize(inputs, p=2, dim=1)\n",
    "        optimizer.zero_grad()\n",
    "        outputs = net(inputs)\n",
    "        ouputs = outputs.float()\n",
    "        ids = torch.LongTensor(labels).view(-1, 1)\n",
    "        labels = torch.FloatTensor(len(labels), num_classes).zero_().scatter_(1, ids, 1)\n",
    "        labels = labels.to(device)\n",
    "        loss = logistic_loss(outputs, labels)\n",
    "        loss.backward()\n",
    "        optimizer.step()\n",
    "        sum_loss += loss.item()\n",
    "        batch += 1\n",
    "    tr_loss = sum_loss / batch\n",
    "    return tr_loss\n"
   ]
  },
  {
   "cell_type": "code",
   "execution_count": 211,
   "metadata": {},
   "outputs": [
    {
     "name": "stderr",
     "output_type": "stream",
     "text": [
      "100%|██████████| 35/35 [00:01<00:00, 20.69it/s]"
     ]
    },
    {
     "name": "stdout",
     "output_type": "stream",
     "text": [
      "Training Finished!\n"
     ]
    },
    {
     "name": "stderr",
     "output_type": "stream",
     "text": [
      "\n"
     ]
    }
   ],
   "source": [
    "for epoch in tqdm(range(EPOCH)):\n",
    "    tr_loss = train_epoch(net_SGD, opt_SGD)\n",
    "    train_loss.append(tr_loss)\n",
    "\n",
    "print(\"Training Finished!\")"
   ]
  },
  {
   "cell_type": "code",
   "execution_count": 212,
   "metadata": {},
   "outputs": [
    {
     "name": "stderr",
     "output_type": "stream",
     "text": [
      "No handles with labels found to put in legend.\n"
     ]
    },
    {
     "data": {
      "text/plain": [
       "Text(0,0.5,'log(loss)')"
      ]
     },
     "execution_count": 212,
     "metadata": {},
     "output_type": "execute_result"
    },
    {
     "data": {
      "image/png": "[encoded data removed]",
      "text/plain": [
       "<Figure size 432x288 with 1 Axes>"
      ]
     },
     "metadata": {
      "needs_background": "light"
     },
     "output_type": "display_data"
    }
   ],
   "source": [
    "x = range(len(train_loss))\n",
    "plt.plot(x, train_loss, color='C0')\n",
    "plt.legend()\n",
    "plt.xlabel('epoch')\n",
    "plt.ylabel('log(loss)')\n",
    "# plt.savefig(save_path / 'train loss.png')"
   ]
  },
  {
   "cell_type": "code",
   "execution_count": 213,
   "metadata": {},
   "outputs": [
    {
     "data": {
      "text/plain": [
       "0.4774114042520523"
      ]
     },
     "execution_count": 213,
     "metadata": {},
     "output_type": "execute_result"
    }
   ],
   "source": [
    "train_loss[0] - train_loss[34]"
   ]
  },
  {
   "cell_type": "markdown",
   "metadata": {},
   "source": []
  },
  {
   "cell_type": "code",
   "execution_count": null,
   "metadata": {},
   "outputs": [],
   "source": []
  },
  {
   "cell_type": "code",
   "execution_count": null,
   "metadata": {},
   "outputs": [],
   "source": []
  },
  {
   "cell_type": "code",
   "execution_count": null,
   "metadata": {},
   "outputs": [],
   "source": []
  },
  {
   "cell_type": "code",
   "execution_count": null,
   "metadata": {},
   "outputs": [],
   "source": []
  }
 ],
 "metadata": {
  "kernelspec": {
   "display_name": "Python 3 (ipykernel)",
   "language": "python",
   "name": "python3"
  },
  "language_info": {
   "codemirror_mode": {
    "name": "ipython",
    "version": 3
   },
   "file_extension": ".py",
   "mimetype": "text/x-python",
   "name": "python",
   "nbconvert_exporter": "python",
   "pygments_lexer": "ipython3",
   "version": "3.7.11"
  }
 },
 "nbformat": 4,
 "nbformat_minor": 2
}
